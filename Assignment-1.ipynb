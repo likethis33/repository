{
 "cells": [
  {
   "cell_type": "code",
   "execution_count": 17,
   "metadata": {
    "collapsed": false
   },
   "outputs": [
    {
     "name": "stdout",
     "output_type": "stream",
     "text": [
      "Python Hello\n"
     ]
    }
   ],
   "source": [
    "a = \"Hello Python\"\n",
    "print a[6:12] + ' ' + a[0:5]"
   ]
  },
  {
   "cell_type": "markdown",
   "metadata": {},
   "source": [
    "# 문제 1번\n",
    "### 해결 과정\n",
    "- 해당 문제를 해결하기 위해 먼저 문자열 \"Hello Python\"을 a에 저장했습니다.\n",
    "- 원하는 출력을 하기 위해 슬라이싱 방법을 사용하기로 했습니다.\n",
    "- 따라서 a의 \"Python\"을 저장하고 있는 부분을 따로 슬라이싱하여 출력하였습니다.\n",
    "- 그런 다음 공백 ' '과 함께 \"Hello\"를 저장하고 있는 부분을 슬라싱하여 해당 결과물을 출력했습니다."
   ]
  },
  {
   "cell_type": "code",
   "execution_count": 38,
   "metadata": {
    "collapsed": false
   },
   "outputs": [
    {
     "name": "stdout",
     "output_type": "stream",
     "text": [
      "Python World\n"
     ]
    }
   ],
   "source": [
    "b = \"Hello Python World\"\n",
    "print b[6:12] + ' ' + b[13:19]"
   ]
  },
  {
   "cell_type": "markdown",
   "metadata": {},
   "source": [
    "# 문제 2번\n",
    "### 해결 과정\n",
    "- 해당 문제를 해결하기 위해 먼저 문자열 \"Hello Python World\"를 b에 저장했습니다.\n",
    "- 원하는 출력을 하기 위해 문제 1번과 같이 슬라이싱 방법을 사용하기로 했습니다.\n",
    "- 따라서 b의 \"Python\"을 저장하고 있는 부분을 따로 슬라이싱하여 출력하였습니다.\n",
    "- 그런 다음 공백 ' '과 함께 \"World\"를 저장하고 있는 부분을 슬라싱하여 해당 결과물을 출력했습니다."
   ]
  },
  {
   "cell_type": "code",
   "execution_count": 39,
   "metadata": {
    "collapsed": false
   },
   "outputs": [
    {
     "name": "stdout",
     "output_type": "stream",
     "text": [
      "olleH\n"
     ]
    }
   ],
   "source": [
    "c = \"Hello\"\n",
    "print c[::-1]"
   ]
  },
  {
   "cell_type": "markdown",
   "metadata": {},
   "source": [
    "# 문제 3번\n",
    "### 해결 과정\n",
    "- 해당 문제를 해결하기 위해 먼저 문자열 \"Hello\"를 c에 저장했습니다.\n",
    "- 원하는 출력을 하기 위해 문제 1,2번과 같이 슬라이싱 방법을 사용하기로 했습니다.\n",
    "- 입력 받은 문자를 역순으로 정렬하기 위해 해당 기능을 수행하는 [::-1]을 사용했습니다."
   ]
  },
  {
   "cell_type": "code",
   "execution_count": 63,
   "metadata": {
    "collapsed": false
   },
   "outputs": [
    {
     "name": "stdout",
     "output_type": "stream",
     "text": [
      "p\n",
      "p\n",
      "p\n"
     ]
    }
   ],
   "source": [
    "s = \"python\"\n",
    "print s[0]\n",
    "print s[0][0]\n",
    "print s[0][0][0]\n",
    "\n"
   ]
  },
  {
   "cell_type": "markdown",
   "metadata": {},
   "source": [
    "# 문제 4-1번\n",
    "### 해결 과정\n",
    "- 3개의 항의 값은 모두 'p'로 출력되었습니다.\n",
    "- 's[0]'의 경우에는 문자열의 첫 번째 값이 'p'이므로 해당 결과가 나왔습니다.\n",
    "- 's[0][0]','s[0][0][0]'의 경우에는 다차원 배열인데 그렇다고 하더라고 맨 처음 값은 'p'이므로 다음과 값은 출력 값이 나왔습니다."
   ]
  },
  {
   "cell_type": "code",
   "execution_count": 64,
   "metadata": {
    "collapsed": false
   },
   "outputs": [
    {
     "ename": "IndexError",
     "evalue": "string index out of range",
     "output_type": "error",
     "traceback": [
      "\u001b[1;31m---------------------------------------------------------------------------\u001b[0m",
      "\u001b[1;31mIndexError\u001b[0m                                Traceback (most recent call last)",
      "\u001b[1;32m<ipython-input-64-4ec062a644bf>\u001b[0m in \u001b[0;36m<module>\u001b[1;34m()\u001b[0m\n\u001b[0;32m      1\u001b[0m \u001b[0ms\u001b[0m \u001b[1;33m=\u001b[0m \u001b[1;34m\"python\"\u001b[0m\u001b[1;33m\u001b[0m\u001b[0m\n\u001b[1;32m----> 2\u001b[1;33m \u001b[1;32mprint\u001b[0m \u001b[0ms\u001b[0m\u001b[1;33m[\u001b[0m\u001b[1;33m-\u001b[0m\u001b[1;36m100\u001b[0m\u001b[1;33m]\u001b[0m\u001b[1;33m\u001b[0m\u001b[0m\n\u001b[0m",
      "\u001b[1;31mIndexError\u001b[0m: string index out of range"
     ]
    }
   ],
   "source": [
    "s = \"python\"\n",
    "print s[-100]"
   ]
  },
  {
   "cell_type": "code",
   "execution_count": 65,
   "metadata": {
    "collapsed": false
   },
   "outputs": [
    {
     "ename": "IndexError",
     "evalue": "string index out of range",
     "output_type": "error",
     "traceback": [
      "\u001b[1;31m---------------------------------------------------------------------------\u001b[0m",
      "\u001b[1;31mIndexError\u001b[0m                                Traceback (most recent call last)",
      "\u001b[1;32m<ipython-input-65-1f355dc5cc0d>\u001b[0m in \u001b[0;36m<module>\u001b[1;34m()\u001b[0m\n\u001b[0;32m      1\u001b[0m \u001b[0ms\u001b[0m \u001b[1;33m=\u001b[0m \u001b[1;34m\"python\"\u001b[0m\u001b[1;33m\u001b[0m\u001b[0m\n\u001b[1;32m----> 2\u001b[1;33m \u001b[1;32mprint\u001b[0m \u001b[0ms\u001b[0m\u001b[1;33m[\u001b[0m\u001b[1;36m100\u001b[0m\u001b[1;33m]\u001b[0m\u001b[1;33m\u001b[0m\u001b[0m\n\u001b[0m",
      "\u001b[1;31mIndexError\u001b[0m: string index out of range"
     ]
    }
   ],
   "source": [
    "s = \"python\"\n",
    "print s[100]"
   ]
  },
  {
   "cell_type": "markdown",
   "metadata": {},
   "source": [
    "# 문제 4-2번\n",
    "### 해결 과정\n",
    "- 2개의 항 모두 에러가 나왔습니다. index값이 정해진 범위를 넘어서 발생한 것으로 's'에 길이는 6이지만 정장된 값이 없는 100번째 항의 값을 출력하려 했기 때문입니다."
   ]
  },
  {
   "cell_type": "code",
   "execution_count": 73,
   "metadata": {
    "collapsed": false
   },
   "outputs": [
    {
     "ename": "TypeError",
     "evalue": "string indices must be integers, not tuple",
     "output_type": "error",
     "traceback": [
      "\u001b[1;31m---------------------------------------------------------------------------\u001b[0m",
      "\u001b[1;31mTypeError\u001b[0m                                 Traceback (most recent call last)",
      "\u001b[1;32m<ipython-input-73-bba26eacd08e>\u001b[0m in \u001b[0;36m<module>\u001b[1;34m()\u001b[0m\n\u001b[0;32m      1\u001b[0m \u001b[0ms\u001b[0m \u001b[1;33m=\u001b[0m \u001b[1;34m\"python\"\u001b[0m\u001b[1;33m\u001b[0m\u001b[0m\n\u001b[1;32m----> 2\u001b[1;33m \u001b[1;32mprint\u001b[0m \u001b[0ms\u001b[0m\u001b[1;33m[\u001b[0m\u001b[1;33m-\u001b[0m\u001b[1;36m100\u001b[0m\u001b[1;33m,\u001b[0m\u001b[1;36m100\u001b[0m\u001b[1;33m]\u001b[0m\u001b[1;33m\u001b[0m\u001b[0m\n\u001b[0m",
      "\u001b[1;31mTypeError\u001b[0m: string indices must be integers, not tuple"
     ]
    }
   ],
   "source": [
    "s = \"python\"\n",
    "print s[-100,100]"
   ]
  },
  {
   "cell_type": "markdown",
   "metadata": {},
   "source": [
    "# 문제 4-3번\n",
    "### 해결 과정\n",
    "- 해당 출력값이 에러가 난 이유는 문법에 어긋난 입력 때문이라고 생각합니다.\n",
    "- 해당 범위를 출력하고 싶었다면 ','이 아닌 ':'을 넣어야 하기 때문입니다."
   ]
  },
  {
   "cell_type": "code",
   "execution_count": 74,
   "metadata": {
    "collapsed": false
   },
   "outputs": [
    {
     "name": "stdout",
     "output_type": "stream",
     "text": [
      "ytho\n"
     ]
    }
   ],
   "source": [
    "s = \"python\"\n",
    "print s[1:-1]"
   ]
  },
  {
   "cell_type": "markdown",
   "metadata": {},
   "source": [
    "# 문제 4-4번\n",
    "### 해결 과정\n",
    "- 앞의 값 1은 앞에서 2번째 값을 가리키고 뒤의 -1은 뒤에서 2번째 값을 가리킵니다.\n",
    "- 결론적으로 앞에서 2번째 부터 뒤에서 2번째까지의 값을 출력하라는 의미가 됩니다.\n",
    "- 그러므로 다음과 같이 첫 번째 값과 마지막 값이 사라진 결과물이 출력됩니다."
   ]
  },
  {
   "cell_type": "code",
   "execution_count": 76,
   "metadata": {
    "collapsed": false
   },
   "outputs": [
    {
     "name": "stdout",
     "output_type": "stream",
     "text": [
      "\n"
     ]
    }
   ],
   "source": [
    "s = \"python\"\n",
    "print s[3:-3]"
   ]
  },
  {
   "cell_type": "markdown",
   "metadata": {},
   "source": [
    "# 문제 4-5번\n",
    "### 해결 과정\n",
    "- 앞의 3은 앞에서 4번째 값을 가리키고 뒤의 -3은 뒤에서 4번째 값을 가리킵니다.\n",
    "- 결론적으로 앞에서 4번째 값 부터 뒤에서 4번째까지의 값을 출력하라는 의미가 됩니다.\n",
    "- 그러나 시작과 끝의 범위가 중첩이 되므로 다음과 같이 값이 출력되지 않았습니다."
   ]
  },
  {
   "cell_type": "code",
   "execution_count": null,
   "metadata": {
    "collapsed": false
   },
   "outputs": [],
   "source": [
    "print s[1:-1]\n",
    "print s[3:-3]"
   ]
  },
  {
   "cell_type": "code",
   "execution_count": 1,
   "metadata": {
    "collapsed": false
   },
   "outputs": [
    {
     "name": "stdout",
     "output_type": "stream",
     "text": [
      "1\n",
      "3\n",
      "5\n",
      "7\n",
      "9\n",
      "11\n",
      "13\n",
      "15\n",
      "17\n",
      "19\n",
      "21\n",
      "23\n",
      "25\n",
      "27\n",
      "29\n",
      "31\n",
      "33\n",
      "35\n",
      "37\n",
      "39\n",
      "41\n",
      "43\n",
      "45\n",
      "47\n",
      "49\n",
      "51\n",
      "53\n",
      "55\n",
      "57\n",
      "59\n",
      "61\n",
      "63\n",
      "65\n",
      "67\n",
      "69\n",
      "71\n",
      "73\n",
      "75\n",
      "77\n",
      "79\n",
      "81\n",
      "83\n",
      "85\n",
      "87\n",
      "89\n",
      "91\n",
      "93\n",
      "95\n",
      "97\n",
      "99\n"
     ]
    }
   ],
   "source": [
    "for x in range(101):\n",
    "    if(x%2 == 1):\n",
    "        print x"
   ]
  },
  {
   "cell_type": "markdown",
   "metadata": {},
   "source": [
    "# 문제 5번\n",
    "### 해결 과정\n",
    "- 해당 문제를 해결하기 위해 for을 통한 반복문과 if문을 사용하기로 했습니다.\n",
    "- x의 범위를 0~100까지로 설정했습니다.\n",
    "- 그런 다음 if문을 통해 2로 나눴을 때 나머지가 1인 경우를 홀수로 간주하기로 했습니다.\n",
    "- 홀수로 간주된 수를 출력하였습니다."
   ]
  },
  {
   "cell_type": "code",
   "execution_count": 56,
   "metadata": {
    "collapsed": false
   },
   "outputs": [
    {
     "name": "stdout",
     "output_type": "stream",
     "text": [
      "2550\n"
     ]
    }
   ],
   "source": [
    "x = 1;\n",
    "sum = 0;\n",
    "\n",
    "while(x<=100):\n",
    "    \n",
    "    if(x%2 == 0):\n",
    "        sum = sum + x\n",
    "        \n",
    "    x = x + 1;\n",
    "    \n",
    "print sum"
   ]
  },
  {
   "cell_type": "markdown",
   "metadata": {},
   "source": [
    "# 문제 6번\n",
    "### 해결 과정\n",
    "- 해당 문제를 해결하기 위해 먼저 반복문 while문을 사용하기로 했습니다.\n",
    "- 반복문의 연산을 위한 x값을 1로 초기화 하고 100이 넘을 경우 while문을 종료하기로 했습니다.\n",
    "- 1부터 100사이의 짝수의 합을 sum이라는 변수에 저장하기로 했습니다.\n",
    "- if문을 통해 1부터 100사이의 값 중 2로 나눠서 나머지가 0인 값을 짝수로 간주했습니다.\n",
    "- 짝수로 결정된 값들은 모두 sum이라는 변수에 더하도록 했습니다.\n",
    "- 반복문이 끝나고 1부터 100사이의 짝수의 합을 출력합니다."
   ]
  },
  {
   "cell_type": "code",
   "execution_count": 57,
   "metadata": {
    "collapsed": false
   },
   "outputs": [
    {
     "name": "stdout",
     "output_type": "stream",
     "text": [
      "input your number :12345\n",
      "54321\n"
     ]
    }
   ],
   "source": [
    "number = raw_input(\"input your number :\")\n",
    "print number[::-1]\n"
   ]
  },
  {
   "cell_type": "markdown",
   "metadata": {},
   "source": [
    "# 문제 7번\n",
    "### 해결 과정\n",
    "- 사용자가 직접 숫자를 입력 받도록 'raw_input'을 사용했습니다.\n",
    "- 입력 받은 문자열은 'number'에 저장되었습니다.\n",
    "- 'number'의 문자열 길이 값을 저장한 값을 슬라이싱 하도록 했습니다.\n",
    "- 역으로 출력하기 위해 [::-1]로 출력하도록 했습니다."
   ]
  },
  {
   "cell_type": "code",
   "execution_count": 53,
   "metadata": {
    "collapsed": false
   },
   "outputs": [
    {
     "name": "stdout",
     "output_type": "stream",
     "text": [
      "input your number :15\n",
      "13\n",
      "11\n",
      "7\n",
      "5\n",
      "3\n",
      "2\n"
     ]
    }
   ],
   "source": [
    "number = input(\"input your number :\")\n",
    "y = number\n",
    "\n",
    "while(y > 1):\n",
    "    x = y-1\n",
    "        \n",
    "    while(x >= 1):\n",
    "        \n",
    "        if(y%x == 0):\n",
    "            break\n",
    "            \n",
    "        else:\n",
    "            x = x-1\n",
    "            \n",
    "        if(x == 1):\n",
    "            print y\n",
    "    y = y-1\n",
    "    \n",
    "if(number>=2):\n",
    "        print '2'"
   ]
  },
  {
   "cell_type": "markdown",
   "metadata": {},
   "source": [
    "# 문제 8번\n",
    "### 해결 과정\n",
    "- 사용자가 지정한 숫자를 받기 위해 'input'을 사용했습니다.(문자열이 아닌 int형이 필요했기 때문입니다.)\n",
    "- 사용자가 입력한 값을 변수'number'에 저장했습니다.\n",
    "- 변수 'y'에 입력받은 값을 저장하고 1부터 'y'까지의 숫자 중에서 소수가 있는지 판별하기 위해 1번째 while문을 사용하기로 했습니다.\n",
    "- 2번째 while문은 소수를 판별하기 위해 사용하기로 했습니다.\n",
    "- 2번째 while문이 실행되는 동안 1을 제외하고 나눌 수 있는 숫자가 없을 때 해당값을 소수로 판별하고 출력합니다.\n",
    "- 마지막으로 입력받은 'number'값이 2을 넘을 경우에는 2를 따로 출력하도록 했습니다."
   ]
  },
  {
   "cell_type": "code",
   "execution_count": 58,
   "metadata": {
    "collapsed": false
   },
   "outputs": [
    {
     "name": "stdout",
     "output_type": "stream",
     "text": [
      "233168\n"
     ]
    }
   ],
   "source": [
    "total = 0\n",
    "x = 1\n",
    "\n",
    "for x in range(1000):\n",
    "    \n",
    "    if((x%3 == 0) or (x%5 == 0)):\n",
    "        total = total + x\n",
    "        \n",
    "print total"
   ]
  },
  {
   "cell_type": "markdown",
   "metadata": {},
   "source": [
    "# 문제 9번\n",
    "### 해결 과정\n",
    "- 3의 배수와 5의 배수 값을 저장하기 위한 변수 'total'을 0으로 초기화 했습니다.\n",
    "- 1이상이고 1000미만의 3의 배수와 5의 배수값을 찾기 위해 반복문 for문을 사용하기로 했습니다.\n",
    "- 반복문 연산을 위한 'x'값을 1로 초기화 하고 범위를 999까지 설정했습니다.\n",
    "- if문을 이용해서 해당 값이 3 혹은 5로 나눠질 경우 'total'에 저장하기로 했습니다.\n",
    "- 반복문이 끝난후 'total'값을 출력했습니다."
   ]
  },
  {
   "cell_type": "code",
   "execution_count": 41,
   "metadata": {
    "collapsed": false
   },
   "outputs": [
    {
     "name": "stdout",
     "output_type": "stream",
     "text": [
      "4613732\n"
     ]
    }
   ],
   "source": [
    "x = range(10000)\n",
    "n = 2\n",
    "x[0] = 1\n",
    "x[1] = 1\n",
    "total = 0\n",
    "\n",
    "while(1):\n",
    "    x[n] = x[n-2] + x[n-1]\n",
    "    \n",
    "    if(x[n] > 4000000):\n",
    "        break\n",
    "        \n",
    "    if(x[n]%2 == 0):\n",
    "        total = total + x[n]\n",
    "        \n",
    "    n = n + 1\n",
    "    \n",
    "print total"
   ]
  },
  {
   "cell_type": "markdown",
   "metadata": {},
   "source": [
    "# 문제 10번\n",
    "### 해결 과정\n",
    "- 피보나치 수열값을 저장하기 위한 'x'값을 9999까지의 범위를 가진 리스트로 선언했습니다.\n",
    "- 각 항의 연산을 위한 'n'을 2로 초기화 하고 0,1번째의 'x'값을 1로 초기화했습니다.\n",
    "- 피보나치 수열은 앞의 2개의 항의 값을 더한 것이 다음 항의 값이 되므로 다음과 같이 'x[n] = x[n-2] + x[n-1]'으로 계산했습니다.\n",
    "- 'x[n]'값이 400만이 넘어 갈 경우, 반복문을 중지 하도록 했습니다.\n",
    "- 반복문이 중지 되기 전까지는 짝수항의 값을 변수 'total'에 저장하도록 했습니다.\n",
    "- 반복문이 끝나고 'total'값을 출력하였습니다."
   ]
  },
  {
   "cell_type": "code",
   "execution_count": 49,
   "metadata": {
    "collapsed": false
   },
   "outputs": [
    {
     "name": "stdout",
     "output_type": "stream",
     "text": [
      "6857\n"
     ]
    }
   ],
   "source": [
    "num = 600851475143\n",
    "num_max = 0\n",
    "x = 2\n",
    "\n",
    "while(1):\n",
    "    \n",
    "    if(num < x):\n",
    "        print num_max\n",
    "        break\n",
    "        \n",
    "    if(num%x == 0):\n",
    "        num_max = x\n",
    "        num = num/x\n",
    "        \n",
    "    x = x+1"
   ]
  },
  {
   "cell_type": "markdown",
   "metadata": {},
   "source": [
    "# 문제 11번\n",
    "### 해결 과정\n",
    "- 정해진 'num'값은 소수의 값으로만 계산된 것이므로 2부터 시작해서 증감하면서 나누다 보면 소수로만 나눠질 것으로 판단하였습니다.\n",
    "- 따라서 반복문 while문을 통해서 2부터 증감하면서 'num'값을 x로 나눠서 나머지가 0일 경우, 현재까지 가장 큰 소인수인 값을 저장하는 'num_max'에 해당 값을 저장합니다.\n",
    "- 그런 다음 'num'을 현재까지 가장 큰 소인수로 나눠주고 그 값을 반복문을 통해 계속 나누는 연산작업을 진행합니다.\n",
    "- 'x'값이 'num'보다 커지게 될 경우, 가장 큰 소인수를 출력하고 반복문을 종료합니다."
   ]
  },
  {
   "cell_type": "markdown",
   "metadata": {},
   "source": [
    "# 과제 소감\n",
    "- 그 동안 배웠던 내용을 한 번에 정리해 볼 수 있는 시간이어서 정말 유익했던 과제였습니다. 앞으로 진해할 과제에서도 오늘처럼 많은 것을 배우고 가진 지식을 정리할 수 있는 시간이 되도록 노력하겠습니다."
   ]
  }
 ],
 "metadata": {
  "kernelspec": {
   "display_name": "Python 2",
   "language": "python",
   "name": "python2"
  },
  "language_info": {
   "codemirror_mode": {
    "name": "ipython",
    "version": 2
   },
   "file_extension": ".py",
   "mimetype": "text/x-python",
   "name": "python",
   "nbconvert_exporter": "python",
   "pygments_lexer": "ipython2",
   "version": "2.7.11"
  }
 },
 "nbformat": 4,
 "nbformat_minor": 0
}
