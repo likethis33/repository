{
 "cells": [
  {
   "cell_type": "code",
   "execution_count": 34,
   "metadata": {
    "collapsed": false
   },
   "outputs": [
    {
     "name": "stdout",
     "output_type": "stream",
     "text": [
      "4\n",
      "1\n",
      "2\n",
      "2\n",
      "1\n",
      "3\n"
     ]
    }
   ],
   "source": [
    "print 1 and 2 and 3 and 4     #1번\n",
    "print 1 or 2 or 3 or 4        #2번\n",
    "print 1 and 2 or 3 and 4      #3번\n",
    "print (1 and 2) or (3 and 4)  #4번\n",
    "print 1 or 2 and 3 or 4       #5번\n",
    "print (1 or 2) and (3 or 4)   #6번"
   ]
  },
  {
   "cell_type": "markdown",
   "metadata": {
    "collapsed": true
   },
   "source": [
    "# 문제 1번\n",
    "## 해결 과정\n",
    "### 1번\n",
    "- 'and'연산자는 좌, 우의 값이 모두 true여야 true로 인정됩니다.\n",
    "- 먼저 좌측의 값이 true인지 확인한 다음 우측의 값이 true인지 확인되면 최종적으로 true가 됩니다.\n",
    "- 그러므로 맨 처음 1(true)을 확인한 다음 2(true)를 확인합니다.\n",
    "- 그 후에 연달아 있는 'and'연산자들의 true여부를 확인하기 위해 순차적으로 3과 4를 확인합니다.\n",
    "- 결과적으로 가장 마지막에 확인된 값인 4가 최종적인 결과(true)로 출력됩니다.\n",
    "\n",
    "### 2번\n",
    "- 'or'연산자는 좌, 우의 값 중에 하나만 true면 true로 인정됩니다.\n",
    "- 따라서 좌측 값이 true로 확인된다면 우측 값의 확인 절차 없이 true가 출력됩니다.\n",
    "- 그러므로 2번의 경우, 가장 좌측에 있는 값이 1(true)으므로 1이 결과로 출력됩니다.\n",
    "\n",
    "### 3번\n",
    "- 3번의 경우, '1 and 2'는 좌, 우를 모두 확인하므로 2가 결과가 됩니다.\n",
    "- 그 다음으로 'or' 연산을 진행하는 데 좌측 값은 이미 2(true)이므로 최종 결과로 2가 출력 됩니다.\n",
    "\n",
    "### 4번\n",
    "- 4번의 경우, '(1 and 2)'연산을 하면 좌, 우의 모든 값을 확인하여 2가 결과가 됩니다.\n",
    "- 그 다음 연산으로 'or'가 있는데 좌측의 값이 이미 true이므로 최종적으로 2가 결과로 출력됩니다.\n",
    "\n",
    "### 5번\n",
    "- 5번의 경우, 맨 처음 연산자가 'or'이고 좌측 값이 1(true)이므로 후속 연산에 상관없이 1이 결과로 출력됩니다.\n",
    "\n",
    "### 6번\n",
    "- 6번의 경우, 두 개의 괄호 안에 있는 'or'를 연산하면 각각 1과 3이 결과가 됩니다.\n",
    "- 이 두개의 값을 'and'연산하면 좌, 우 값을 모두 확인하여 3이 결과로 출력됩니다.\n"
   ]
  },
  {
   "cell_type": "code",
   "execution_count": 58,
   "metadata": {
    "collapsed": false
   },
   "outputs": [
    {
     "name": "stdout",
     "output_type": "stream",
     "text": [
      "0\n",
      "5\n",
      "13\n",
      "/home/chulsoo\n",
      "test.txt\n"
     ]
    },
    {
     "data": {
      "text/plain": [
       "['/home/chulsoo', 'test.txt']"
      ]
     },
     "execution_count": 58,
     "metadata": {},
     "output_type": "execute_result"
    }
   ],
   "source": [
    "def div_path(url):\n",
    "    s=[]\n",
    "    s = url\n",
    "    i = len(s)\n",
    "    count = 0\n",
    "    for x in range(i):\n",
    "        if(s[x]=='/'):\n",
    "            count = x\n",
    "            print count\n",
    "     \n",
    "    s1 = s[0:count]\n",
    "    s2 = s[count+1:i]\n",
    "    print s1\n",
    "    print s2\n",
    "    s = s1 +' '+ s2\n",
    "    s = s.split(' ')\n",
    "    return s\n",
    "\n",
    "\n",
    "div_path('/home/chulsoo/test.txt')\n",
    "            \n",
    "    "
   ]
  },
  {
   "cell_type": "markdown",
   "metadata": {},
   "source": [
    "# 문제 2번\n",
    "## 해결 과정\n",
    "- 파일명은 '/'의 맨 마지막 부분에 나온다는 점을 이용하기로 했습니다.\n",
    "- 따라서 for문을 통해 가장 마지막에 나온 '/'의 위치값을 계속 갱신했습니다.\n",
    "- for문이 끝나고 슬라이싱을 통해 마지막 '/'의 전, 후 값을 슬라이싱을 통해 각각 s1,s2에 저장합니다.\n",
    "- s에 s1, s2의 값과 가운데에 null값을 넣어줍니다.\n",
    "- split()을 이용하여 null값을 기준으로 2개의 단어로 분리시킵니다.\n",
    "- 분리된 리스트 값을 반환합니다."
   ]
  },
  {
   "cell_type": "code",
   "execution_count": 55,
   "metadata": {
    "collapsed": false
   },
   "outputs": [
    {
     "name": "stdout",
     "output_type": "stream",
     "text": [
      "[-10, -1, 0, 9, 9, 9, 9, 9, 9, 100, 1000]\n",
      "[-10, -1, 0, 9, 9, 9, 9, 9, 100, 1000]\n",
      "[-10, -1, 0, 9, 9, 9, 9, 100, 1000]\n",
      "[-10, -1, 0, 9, 9, 9, 100, 1000]\n",
      "[-10, -1, 0, 9, 9, 100, 1000]\n",
      "[-10, -1, 0, 9, 100, 1000]\n"
     ]
    },
    {
     "data": {
      "text/plain": [
       "[-10, -1, 0, 9, 100, 1000]"
      ]
     },
     "execution_count": 55,
     "metadata": {},
     "output_type": "execute_result"
    }
   ],
   "source": [
    "def list_union (lista, listb):\n",
    "    s1 = []\n",
    "    s2 = []\n",
    "    answer = []\n",
    "    \n",
    "    s1 = lista\n",
    "    s2 = listb\n",
    "    \n",
    "    answer = s1 + s2\n",
    "    \n",
    "    i = len(answer)\n",
    "    answer.sort()\n",
    "    \n",
    "    x = 1\n",
    "    while(x < i):\n",
    "        if(answer[x-1] == answer[x]):\n",
    "            answer = answer[:x-1] + answer[x:] \n",
    "            i = i-1\n",
    "            print answer\n",
    "            continue\n",
    "            \n",
    "        else:\n",
    "            x += 1\n",
    "        \n",
    "    return answer\n",
    "    \n",
    "    \n",
    "list_union([-10, 0, -1,1000], [100, 9,9,9,9,9, 0, 9])"
   ]
  },
  {
   "cell_type": "markdown",
   "metadata": {},
   "source": [
    "# 문제 3번\n",
    "## 해결 과정\n",
    "- 2개의 리스트값을 input으로 받는 함수를 선언합니다.\n",
    "- 2개의 리스트값을 answer에 저장하고 sort()를 통해 정렬합니다.\n",
    "- 정렬하다보면 중복된 값이 있을 수 있는데 while문을 통해 전 값과 후의 값이 일치하는지 검토합니다\n",
    "- 검토 결과 중복된 것이 확인 되면 슬라이싱을 통해 앞의 값을 자르고 다시 저장합니다.\n",
    "- 중복된 값이 걸러진 answer를 반환합니다."
   ]
  },
  {
   "cell_type": "code",
   "execution_count": 28,
   "metadata": {
    "collapsed": false
   },
   "outputs": [
    {
     "name": "stdout",
     "output_type": "stream",
     "text": [
      "906609\n"
     ]
    }
   ],
   "source": [
    "s = []\n",
    "i = 100\n",
    "j = 100\n",
    "Max = 0\n",
    "answer = 0\n",
    "\n",
    "while(i < 999):\n",
    "    while(j < 999):\n",
    "        answer = i*j\n",
    "        s = str(answer)\n",
    "        s2 = (s) == s[::-1]\n",
    "        \n",
    "        if((answer > Max) and s2):\n",
    "            Max = answer\n",
    "        j = j + 1\n",
    "    j = 100\n",
    "    i = i + 1\n",
    "            \n",
    "print Max"
   ]
  },
  {
   "cell_type": "markdown",
   "metadata": {},
   "source": [
    "# 문제 4번\n",
    "## 해결 과정\n",
    "- 세 자리수를 곱해 만들 수 있는 대칭수 이므로 100부터 999까지의 정의역을 설정합니다.\n",
    "- 2개의 세 자리수를 곱한 값을 s에 string값으로 저장합니다.\n",
    "- s2에 s의 값을 역전시킨 값이 s와 일치하는 지의 여부를 따지는 값(true or false)을 저장합니다.\n",
    "- 그 후에 연달아 있는 answer값들을 비교해보고 그 중 가장 큰 수를 Max값에 저장한 다음 마지막에 출력합니다."
   ]
  },
  {
   "cell_type": "code",
   "execution_count": 19,
   "metadata": {
    "collapsed": false
   },
   "outputs": [
    {
     "name": "stdout",
     "output_type": "stream",
     "text": [
      "232792560\n"
     ]
    }
   ],
   "source": [
    "answer = 2519\n",
    "x = 1\n",
    "while(1):\n",
    "    \n",
    "    if(answer%1 == 0 and answer%2 == 0 and answer%3 == 0 and answer%4 == 0 and answer%5 == 0\\\n",
    "   and answer%6 == 0 and answer%7 == 0 and answer%8 == 0 and answer%9 == 0 and answer%10 == 0\\\n",
    "   and answer%11 == 0 and answer%12 == 0 and answer%13 == 0 and answer%14 == 0 and answer%15 == 0\\\n",
    "   and answer%16 == 0 and answer%17 == 0 and answer%18 == 0 and answer%19 == 0 and answer%20 == 0):\n",
    "        print answer\n",
    "        break\n",
    "    else:\n",
    "        answer += 1\n",
    "        continue\n",
    "    \n",
    "    \n",
    "            \n",
    "   "
   ]
  },
  {
   "cell_type": "markdown",
   "metadata": {},
   "source": [
    "# 문제 5번\n",
    "## 해결 과정\n",
    "- 문제가 제시 되었을 때 1~10 사이의 어떤수로도 나누어 떨어지는 가장 작은 수가 2520이라 해서 초기값을 저렇게 설정했습니다.\n",
    "- 처음 구상 계획으로는 for문을 통해서 해당 문제를 해결해 보고자 했으나 실행하는 데에 시간이 너무 오래 걸려서 다음과 같이 바꿨습니다.\n",
    "- 초기 값 부터 시작해서 1~20사이의 숫자가 모두 나눠지는 값이 나올 때까지 while문을 실행했습니다.\n",
    "- 그리고 모든 조건에 해당한 값을 답으로 간주하여 출력했습니다."
   ]
  },
  {
   "cell_type": "code",
   "execution_count": 1,
   "metadata": {
    "collapsed": false
   },
   "outputs": [
    {
     "name": "stdout",
     "output_type": "stream",
     "text": [
      "-25164150\n",
      "25164150\n"
     ]
    }
   ],
   "source": [
    "total1 = 0\n",
    "total2 = 0\n",
    "answer = 0\n",
    "\n",
    "for x in range(1,101):\n",
    "    \n",
    "    total1 = total1 + x\n",
    "    total2 = total2 + (x * x)\n",
    "    \n",
    "answer = total2 - (total1*total1)\n",
    "print answer\n",
    "print abs(answer)"
   ]
  },
  {
   "cell_type": "markdown",
   "metadata": {},
   "source": [
    "# 문제 6번\n",
    "## 해결 과정\n",
    "- 1부터 10까지 더한 값을 total1에 저장합니다.\n",
    "- 1부터 10까지 각각의 제곱의 합을 더한 값을 total2에 저장합니다.\n",
    "- answer에서는 total2값과 total1의 제곱값의 차를 계산한 값을 저장합니다.\n",
    "- answer의 값과 절대값을 각각 출력했습니다."
   ]
  },
  {
   "cell_type": "code",
   "execution_count": 1,
   "metadata": {
    "collapsed": false
   },
   "outputs": [
    {
     "name": "stdout",
     "output_type": "stream",
     "text": [
      "472\n"
     ]
    }
   ],
   "source": [
    "import urllib2\n",
    "\n",
    "source = urllib2.urlopen(\"http://cse.kut.ac.kr/\").read()\n",
    "##print source 추후 숙제 답안 제출 때엔 왼쪽 라인은 주석처리할 것\n",
    "L = []\n",
    "a = []\n",
    "count = 0\n",
    "\n",
    "def finding_word(a):\n",
    "    check_end = False\n",
    "    word = \"\"\n",
    "    \n",
    "    for s in a:\n",
    "            if s == '<' :          \n",
    "                check_end = True\n",
    "            elif s == '>' :        \n",
    "                check_end = False    \n",
    "            elif check_end == False :    \n",
    "                word = word + s\n",
    "\n",
    "    return word\n",
    "\n",
    "a = finding_word(source)               \n",
    "L = a.split()   \n",
    "                                        \n",
    "\n",
    "print len(L)"
   ]
  },
  {
   "cell_type": "markdown",
   "metadata": {},
   "source": [
    "# 문제 7번\n",
    "## 해결 과정\n",
    "- 해당 문제를 해결하기 위해 먼저 source값을 처리할 함수를 선언합니다.\n",
    "- 함수안에서 for문을 통해 '<'이 발견되면 check_end값에 true를 넣고 지나갑니다.\n",
    "- '>'이 발견되면 word에 해당 단어를 저장하고 이를 반환합니다.\n",
    "- 반환된 단어들을 리스트a에 저장하고 이를 split()을 통해 공백을 기준으로 단어들을 분리시킵니다.\n",
    "- 해당 길이값을 출력함으로써 단어의 수를 알아냅니다."
   ]
  },
  {
   "cell_type": "markdown",
   "metadata": {},
   "source": [
    "# 숙제 이후 소감\n",
    "- 처음에는 쉽게 생각했었는데 하위 문제로 갈수록 해결하는데에 오랜 시간이 걸려서 리스트와 그 밖의 스크립트의 함수를 사용하는 연습이 더 필요하겠다는 생각을 하게 되었습니다."
   ]
  }
 ],
 "metadata": {
  "kernelspec": {
   "display_name": "Python 2",
   "language": "python",
   "name": "python2"
  },
  "language_info": {
   "codemirror_mode": {
    "name": "ipython",
    "version": 2
   },
   "file_extension": ".py",
   "mimetype": "text/x-python",
   "name": "python",
   "nbconvert_exporter": "python",
   "pygments_lexer": "ipython2",
   "version": "2.7.11"
  }
 },
 "nbformat": 4,
 "nbformat_minor": 0
}
