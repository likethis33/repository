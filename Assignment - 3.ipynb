{
 "cells": [
  {
   "cell_type": "code",
   "execution_count": 249,
   "metadata": {
    "collapsed": false
   },
   "outputs": [
    {
     "name": "stdout",
     "output_type": "stream",
     "text": [
      "[1, 100, 4, 5]\n"
     ]
    }
   ],
   "source": [
    "L=[1,2,3,4,5]\n",
    "L[1:3] = [100]\n",
    "print L"
   ]
  },
  {
   "cell_type": "markdown",
   "metadata": {},
   "source": [
    "# 문제 1-1번\n",
    "## 해결 과정\n",
    "- 리스트 L의 2번째 부터 3번째 인덱스에 오직 100을 넣으므로 해당 위치에 100이 저장됩니다.\n"
   ]
  },
  {
   "cell_type": "code",
   "execution_count": 260,
   "metadata": {
    "collapsed": false
   },
   "outputs": [
    {
     "name": "stdout",
     "output_type": "stream",
     "text": [
      "[1, 100, 4, 5]\n"
     ]
    }
   ],
   "source": [
    "L = [1, 2, 3, 4, 5]\n",
    "L[1:3] = [(100)]\n",
    "print L"
   ]
  },
  {
   "cell_type": "markdown",
   "metadata": {},
   "source": [
    "# 문제 1-2번\n",
    "## 해결 과정\n",
    "- 리스트 L의 2번째 부터 3번째 인덱스에 튜플 100을 넣으므로 위와 같이 100이 저장됩니다.\n"
   ]
  },
  {
   "cell_type": "code",
   "execution_count": 261,
   "metadata": {
    "collapsed": false
   },
   "outputs": [
    {
     "ename": "TypeError",
     "evalue": "can only assign an iterable",
     "output_type": "error",
     "traceback": [
      "\u001b[1;31m---------------------------------------------------------------------------\u001b[0m",
      "\u001b[1;31mTypeError\u001b[0m                                 Traceback (most recent call last)",
      "\u001b[1;32m<ipython-input-261-21449691155d>\u001b[0m in \u001b[0;36m<module>\u001b[1;34m()\u001b[0m\n\u001b[0;32m      1\u001b[0m \u001b[0mL\u001b[0m \u001b[1;33m=\u001b[0m \u001b[1;33m[\u001b[0m\u001b[1;36m1\u001b[0m\u001b[1;33m,\u001b[0m \u001b[1;36m2\u001b[0m\u001b[1;33m,\u001b[0m \u001b[1;36m3\u001b[0m\u001b[1;33m,\u001b[0m \u001b[1;36m4\u001b[0m\u001b[1;33m,\u001b[0m \u001b[1;36m5\u001b[0m\u001b[1;33m]\u001b[0m\u001b[1;33m\u001b[0m\u001b[0m\n\u001b[1;32m----> 2\u001b[1;33m \u001b[0mL\u001b[0m\u001b[1;33m[\u001b[0m\u001b[1;36m1\u001b[0m\u001b[1;33m:\u001b[0m\u001b[1;36m3\u001b[0m\u001b[1;33m]\u001b[0m \u001b[1;33m=\u001b[0m \u001b[1;36m100\u001b[0m\u001b[1;33m\u001b[0m\u001b[0m\n\u001b[0m\u001b[0;32m      3\u001b[0m \u001b[1;32mprint\u001b[0m \u001b[0mL\u001b[0m\u001b[1;33m\u001b[0m\u001b[0m\n",
      "\u001b[1;31mTypeError\u001b[0m: can only assign an iterable"
     ]
    }
   ],
   "source": [
    "L = [1, 2, 3, 4, 5]\n",
    "L[1:3] = 100\n",
    "print L"
   ]
  },
  {
   "cell_type": "markdown",
   "metadata": {},
   "source": [
    "# 문제 1-3번\n",
    "## 해결 과정\n",
    "- 여기서의 100은 int형으로 int형을 넣고자 한다면 위치를 1곳으로만 지정해야 합니다.\n"
   ]
  },
  {
   "cell_type": "code",
   "execution_count": 262,
   "metadata": {
    "collapsed": false
   },
   "outputs": [
    {
     "ename": "TypeError",
     "evalue": "can only assign an iterable",
     "output_type": "error",
     "traceback": [
      "\u001b[1;31m---------------------------------------------------------------------------\u001b[0m",
      "\u001b[1;31mTypeError\u001b[0m                                 Traceback (most recent call last)",
      "\u001b[1;32m<ipython-input-262-708053a6bae3>\u001b[0m in \u001b[0;36m<module>\u001b[1;34m()\u001b[0m\n\u001b[0;32m      1\u001b[0m \u001b[0mL\u001b[0m \u001b[1;33m=\u001b[0m \u001b[1;33m[\u001b[0m\u001b[1;36m1\u001b[0m\u001b[1;33m,\u001b[0m \u001b[1;36m2\u001b[0m\u001b[1;33m,\u001b[0m \u001b[1;36m3\u001b[0m\u001b[1;33m,\u001b[0m \u001b[1;36m4\u001b[0m\u001b[1;33m,\u001b[0m \u001b[1;36m5\u001b[0m\u001b[1;33m]\u001b[0m\u001b[1;33m\u001b[0m\u001b[0m\n\u001b[1;32m----> 2\u001b[1;33m \u001b[0mL\u001b[0m\u001b[1;33m[\u001b[0m\u001b[1;36m1\u001b[0m\u001b[1;33m:\u001b[0m\u001b[1;36m3\u001b[0m\u001b[1;33m]\u001b[0m \u001b[1;33m=\u001b[0m \u001b[1;33m(\u001b[0m\u001b[1;36m100\u001b[0m\u001b[1;33m)\u001b[0m\u001b[1;33m\u001b[0m\u001b[0m\n\u001b[0m\u001b[0;32m      3\u001b[0m \u001b[1;32mprint\u001b[0m \u001b[0mL\u001b[0m\u001b[1;33m\u001b[0m\u001b[0m\n",
      "\u001b[1;31mTypeError\u001b[0m: can only assign an iterable"
     ]
    }
   ],
   "source": [
    "L = [1, 2, 3, 4, 5]\n",
    "L[1:3] = (100)\n",
    "print L"
   ]
  },
  {
   "cell_type": "markdown",
   "metadata": {},
   "source": [
    "# 문제 1-4번\n",
    "## 해결 과정\n",
    "- 리스트의 범위는 2번째 부터 3번째 까지 2곳 인데 저장하고자 하는 튜플은 값이 1개 밖에 없으르모 오류가 발생했습니다.\n"
   ]
  },
  {
   "cell_type": "code",
   "execution_count": 263,
   "metadata": {
    "collapsed": false
   },
   "outputs": [
    {
     "name": "stdout",
     "output_type": "stream",
     "text": [
      "[1, 100, 101, 102, 4, 5]\n"
     ]
    }
   ],
   "source": [
    "L = [1, 2, 3, 4, 5]\n",
    "L[1:3] = (100, 101, 102)\n",
    "print L"
   ]
  },
  {
   "cell_type": "markdown",
   "metadata": {},
   "source": [
    "# 문제 1-5번\n",
    "## 해결 과정\n",
    "- 리스트의 범위는 2번째 부터 3번째 까지 2곳 인데 저장하고자 하는 튜플은 그 이상일 경우 추가로 공간을 확보하여 저장합니다.\n"
   ]
  },
  {
   "cell_type": "code",
   "execution_count": 264,
   "metadata": {
    "collapsed": false
   },
   "outputs": [
    {
     "name": "stdout",
     "output_type": "stream",
     "text": [
      "[1, 100, 101, 102, 4, 5]\n"
     ]
    }
   ],
   "source": [
    "L = [1, 2, 3, 4, 5]\n",
    "L[1:3] = [100, 101, 102]\n",
    "print L"
   ]
  },
  {
   "cell_type": "markdown",
   "metadata": {},
   "source": [
    "# 문제 1-6번\n",
    "## 해결 과정\n",
    "- 리스트 안에 다음과 같은 리스트를 넣어서 위와 같이 추가 공간이 확보되어 저장됩니다.\n"
   ]
  },
  {
   "cell_type": "code",
   "execution_count": 266,
   "metadata": {
    "collapsed": false
   },
   "outputs": [
    {
     "name": "stdout",
     "output_type": "stream",
     "text": [
      "[1, (100, 101, 102), 4, 5]\n"
     ]
    }
   ],
   "source": [
    "L = [1, 2, 3, 4, 5]\n",
    "L[1:3] = [(100, 101, 102)]\n",
    "print L"
   ]
  },
  {
   "cell_type": "markdown",
   "metadata": {},
   "source": [
    "# 문제 1-7번\n",
    "## 해결 과정\n",
    "- 리스트안에 다수의 튜플을 넣은 튜플객체가 저장되므로 ()가 있는 상태로 저장됩니다.\n"
   ]
  },
  {
   "cell_type": "code",
   "execution_count": 265,
   "metadata": {
    "collapsed": false
   },
   "outputs": [
    {
     "name": "stdout",
     "output_type": "stream",
     "text": [
      "[1, [100, 101, 102], 4, 5]\n"
     ]
    }
   ],
   "source": [
    "L = [1, 2, 3, 4, 5]\n",
    "L[1:3] = [[100, 101, 102]]\n",
    "print L"
   ]
  },
  {
   "cell_type": "markdown",
   "metadata": {},
   "source": [
    "# 문제 1-8번\n",
    "## 해결 과정\n",
    "- 위와 유사한 방법으로 다수의 리스트를 넣은 리스트 객체가 저장되므로 []가 있는 상태로 저장됩니다."
   ]
  },
  {
   "cell_type": "code",
   "execution_count": 35,
   "metadata": {
    "collapsed": false,
    "scrolled": true
   },
   "outputs": [
    {
     "name": "stdout",
     "output_type": "stream",
     "text": [
      "Python and World Hello\n",
      "PythonandWorldHello\n"
     ]
    }
   ],
   "source": [
    "S = 'Hello World and Python'\n",
    "l = []\n",
    "l = S\n",
    "L = l.split()\n",
    "S = L[-1]+' '+L[-2]+' '+L[-3]+' '+L[-4]\n",
    "print S\n",
    "S=''.join(L[::-1])\n",
    "print S"
   ]
  },
  {
   "cell_type": "markdown",
   "metadata": {},
   "source": [
    "# 문제 2번\n",
    "## 해결 과정\n",
    "- 우선 'Hello World and Python'이라는 문자열을 S에 저장했습니다.\n",
    "- S안에 있는 문자열을 단어의 단위로 역순으로 배치하기 위해서는 리스트와가 필요하다고 판단했습니다.\n",
    "- 따라서 리스트 l을 선언하고 그 안에 S에 담긴 문자열을 저장했습니다.\n",
    "- 그런 다음 l에 저장된 값의 공백을 기준으로 단어를 저장하기 위해 split()함수를 사용했고 이를 L에 저장했습니다.\n",
    "- L에 저장된 값을 슬라이싱을 이용해서 역순으로 출력한 값으로 역순으로 되어진 문자열을 완성했습니다.\n",
    "- join()과 슬라이싱을 이용하여 공백을 모두 없엔 문자열을 최종적으로 출력했습니다.\n"
   ]
  },
  {
   "cell_type": "code",
   "execution_count": 46,
   "metadata": {
    "collapsed": false
   },
   "outputs": [
    {
     "name": "stdout",
     "output_type": "stream",
     "text": [
      "[1, 2, 3, 1, 2, 3, 1, 2, 3]\n",
      "[[1, 2, 3], [1, 2, 3], [1, 2, 3]]\n",
      "\n",
      "[1, 2, 3, 1, 2, 3, 1, 2, 3]\n",
      "[[0, 2, 3], [0, 2, 3], [0, 2, 3]]\n"
     ]
    }
   ],
   "source": [
    "a = [1, 2, 3]\n",
    "b = a * 3\n",
    "c = [a] * 3\n",
    "print b\n",
    "print c\n",
    "print \n",
    "\n",
    "a[0]=0\n",
    "\n",
    "print b\n",
    "print c"
   ]
  },
  {
   "cell_type": "markdown",
   "metadata": {},
   "source": [
    "# 문제 3번\n",
    "## 해결 과정\n",
    "- 1번 : a[0]=0을 수행한 후의 b의 출력 결과는 위에 출력된 값과 같았습니다. b에 대한 리스트 연산이 a[0]=0 보다 먼저 시행되었고 b에는 추후의 수정이 이뤄지지 않아서 초기의 값을 그대로 유지하고 있는 상황입니다. 반면에 c는 a[0]=0의 선언 이후 수정된 부분의 값이 바뀌어있었습니다.\n",
    "- 2번 : b의 객체는 일반 리스트이지만 c의 경우는 중첩리스트로 하나의 리스트안에 a의 리스트가 들어가 있는 상황입니다. 이 경우 연산 처리시에 해당 리스트가 가리키는 레퍼런스의 값으로 리스트의 내용이 저장되기 때문에 a의 리스트가 바뀌면 그 결과가 중첩리스트내에서도 바뀌는 차이를 보입니다."
   ]
  },
  {
   "cell_type": "code",
   "execution_count": 248,
   "metadata": {
    "collapsed": false
   },
   "outputs": [
    {
     "name": "stdout",
     "output_type": "stream",
     "text": [
      "['  first star   ', '   second star   ', '    third star  ']\n",
      "['first star', 'second star', 'third star']\n",
      "['first star', 'second star', 'third star']\n"
     ]
    }
   ],
   "source": [
    "s = '  first star   :   second star   :    third star  '\n",
    "l = ['first star', 'second star', 'third star']\n",
    "\n",
    "L = s.split(':')\n",
    "for x in range(3):\n",
    "        L[x] = L[x].strip()\n",
    "print L\n",
    "\n",
    "L = s.split(':')\n",
    "L = [L[x].strip() for x in range(3)]\n",
    "print L"
   ]
  },
  {
   "cell_type": "markdown",
   "metadata": {},
   "source": [
    "# 문제 4번\n",
    "## 해결 과정\n",
    "- 1번 : ':'을 기준으로 단어를 분리, 저장하기 위해 split를 사용하였습니다. 그런 다음 for문을 통한 반복문으로 각 단어 좌,우에 있는 공백을 strip를 통해 제거하고 이를 저장했습니다. 그리고나서 해당 결과물을 출력했습니다.\n",
    "- 2번 : 1번과 같이 split를 사용한 다음, 리스트 내포 방식을 사용하여 리스트내에서 각 단어들의 공백을 지우는 식을 작성하고 결과물을 출력했습니다."
   ]
  },
  {
   "cell_type": "code",
   "execution_count": 309,
   "metadata": {
    "collapsed": false
   },
   "outputs": [
    {
     "name": "stdout",
     "output_type": "stream",
     "text": [
      "1\n",
      "45\n",
      "[1]\n",
      "[45]\n",
      "\n",
      "1\n",
      "25\n",
      "[1]\n",
      "[25]\n"
     ]
    }
   ],
   "source": [
    "def addall1(list):\n",
    "    num1 = 0\n",
    "    n = len(list)\n",
    "    for x in range(n):\n",
    "        num1 += list[x]\n",
    "    return num1\n",
    "\n",
    "print addall1([1])\n",
    "print addall1([1,2,3,4,5,6,7,8,9])\n",
    "\n",
    "def addall2(list):\n",
    "    return [sum(list[k] for k in range(len(list)))]\n",
    "\n",
    "print addall2([1])\n",
    "print addall2([1,2,3,4,5,6,7,8,9])\n",
    "print\n",
    "\n",
    "def addallodd1(list):\n",
    "    num2 = 0\n",
    "    m = len(list)\n",
    "    for x in range(m):\n",
    "        if(list[x]%2==1):\n",
    "            num2 += list[x]\n",
    "    return num2\n",
    "\n",
    "print addallodd1([1])\n",
    "print addallodd1([1,2,3,4,5,6,7,8,9])\n",
    "\n",
    "def addallodd2(list):\n",
    "    return [sum(list[k] for k in range(len(list)) if(list[k]%2==1))]\n",
    "print addallodd2([1])\n",
    "print addallodd2([1,2,3,4,5,6,7,8,9])"
   ]
  },
  {
   "cell_type": "markdown",
   "metadata": {},
   "source": [
    "# 문제 5번\n",
    "## 해결 과정\n",
    "- 1번 : addall의 경우, 리스트를 입력 받으면 해당 리스트의 길이만큼 반복문을 실행하여 총 합을 구하도록 하는 for~in 리터널과 리스트 내포 방식을 만들었습니다.\n",
    "- 2번 : addallodd의 경우, 위와 유사한데 한 가지 추가하여 list의 원소 값이 홀수 임이 판명되면 해당 원소만의 총합을 구하는 for~in 리터널과 리스트 내포 방식을 만들었습니다."
   ]
  },
  {
   "cell_type": "code",
   "execution_count": 211,
   "metadata": {
    "collapsed": false
   },
   "outputs": [
    {
     "name": "stdout",
     "output_type": "stream",
     "text": [
      "{'high': [4, 5, 6], 'low': [1, 2, 3]}\n",
      "{'high': [4, 5, 6], 'low': [1, 2, 3]}\n",
      "{'high': [4, 5, 6], 'low': [1, 2, 3]}\n",
      "\n",
      "{'high': [4, 500, 6], 'low': [10, 20, 30]}\n",
      "{'high': [4, 500, 6], 'low': [10, 20, 30]}\n",
      "{'high': [4, 500, 6], 'low': [1, 2, 3]}\n"
     ]
    }
   ],
   "source": [
    "L1 = [1, 2, 3]\n",
    "L2 = [4, 5, 6]\n",
    "d = {'low':L1, 'high':L2}\n",
    "e = d\n",
    "f = d.copy()\n",
    "print d\n",
    "print e\n",
    "print f\n",
    "print\n",
    "d['low'] = [10, 20, 30]\n",
    "d['high'][1] = 500\n",
    "print d\n",
    "print e\n",
    "print f"
   ]
  },
  {
   "cell_type": "markdown",
   "metadata": {},
   "source": [
    "# 문제 6번\n",
    "## 해결 과정\n",
    "- 1번 : 파이썬에서의 e=d는 서로 같은 객체임을 의미하며 따라서 같은 주소를 갖게 됩니다. 그 결과 d에서의 변화는 곧 e에서의 변화를 불러옵니다.\n",
    "- 2번 : 여기서의 copy()는 하나의 사전 객체가 복사됨을 의미합니다. 또한 서로의 자료값은 같지만 객체의 동등성은 다르며 특정 객체가 가진 값들을 새로운 객체로 복사하는 얕은 복사입니다. 즉 다른 객체이므로 d['low']의 변화에도 f['low']는 변함이 없습니다. 반면 d['high']의 경우 해당 키가 가리키고 있는 리스트인 L2의 값을 직접적으로 바꿨으므로 f를 출력 했을 때 수정된 값이 출력됩니다."
   ]
  },
  {
   "cell_type": "code",
   "execution_count": 245,
   "metadata": {
    "collapsed": false
   },
   "outputs": [
    {
     "name": "stdout",
     "output_type": "stream",
     "text": [
      "[('five', 5), ('four', 4), ('one', 1), ('three', 3), ('two', 2)]\n",
      "[('two', 2), ('three', 3), ('one', 1), ('four', 4), ('five', 5)]\n",
      "[('one', 1), ('two', 2), ('three', 3), ('four', 4), ('five', 5)]\n",
      "[('five', 5), ('four', 4), ('three', 3), ('two', 2), ('one', 1)]\n"
     ]
    }
   ],
   "source": [
    "d = {'one':1, 'two':2, 'three':3, 'four':4, 'five':5}\n",
    "\n",
    "items = d.items()\n",
    "items.sort()\n",
    "L=[]\n",
    "L=items\n",
    "print items\n",
    "items.reverse()\n",
    "print items\n",
    "\n",
    "\n",
    "def number(t):\n",
    "    return t[1]\n",
    "\n",
    "L.sort(key=number)\n",
    "print(L)\n",
    " \n",
    "L.sort(key=number, reverse = True)\n",
    "print(L)\n",
    "\n"
   ]
  },
  {
   "cell_type": "markdown",
   "metadata": {},
   "source": [
    "# 문제 7번\n",
    "## 해결 과정\n",
    "- 1번 : 사전 d에 있는 튜플 값을 가져오기 위해 items()을 사용했습니다. 이를 리스트 L에 저장하고 sort()정렬을 이용했습니다. 이럴 경우 튜플의 앞부분을 기준으로 정렬이 이뤄지기 때문입니다. \n",
    "- 2번 : 1번과 동일한 과정으로 진행되었지만 reserve()정렬을 이용함으로써 내림차순 정렬이 이뤄지도록 했습니다.\n",
    "- 3번 : sort()의 사용법 중에서 튜플에 키값을 부여하여 정렬하는 방법이 있다는 것을 알게 되었습니다. 튜플을 반환하기 위한 함수를 선언하고 키값을 기준으로 반환하게 한 다음 이를 오름차순으로 정렬하도록 했습니다.\n",
    "- 4번 : 3번과 동일하되 reverser에 true값을 저장함으로써 내림차순으로 정렬하도록 했습니다."
   ]
  },
  {
   "cell_type": "code",
   "execution_count": 28,
   "metadata": {
    "collapsed": false
   },
   "outputs": [
    {
     "name": "stdout",
     "output_type": "stream",
     "text": [
      "104743\n"
     ]
    }
   ],
   "source": [
    "import math\n",
    "count = 1\n",
    "n = 3\n",
    "m = 0\n",
    "i=0\n",
    "while(1):\n",
    "    m = int(math.sqrt(n))\n",
    "    count += 1\n",
    "    for x in range(2,m+1):\n",
    "        if(n%x == 0):\n",
    "            count -= 1\n",
    "            break\n",
    "   \n",
    "   \n",
    "    if(count == 10001):\n",
    "        print n\n",
    "        break\n",
    "    else:\n",
    "        n = n + 1\n",
    "    \n",
    "\n"
   ]
  },
  {
   "cell_type": "markdown",
   "metadata": {},
   "source": [
    "# 문제 8번\n",
    "## 해결 과정\n",
    "- 저번 수업시간에 배웠던 소수를 출력하는 과정에 크게 감명을 받아서 이를 차용하기로 했습니다.\n",
    "- 해당 소수의 여부를 알고자 할 때 그 수의 제곱근까지 만큼의 수와 나눠보고 소수의 여부를 판별하는 식을 세우기로 했습니다.\n",
    "- 첫 소수인 2는 짝수이기도 해서 먼저 카운트 해주고 3부터 소수인지를 판별하기로 했습니다.\n",
    "- while문을 이용해서 10001번째 소수가 나올 때까지 반복문을 계속 실행합니다.\n",
    "- 변수 m에 해당 숫자의 제곱근 값을 넣고 for문을 통해 제곱근 까지 반복문을 실행하며 해당 숫자가 자기 자신 이외에 나눠지는 수가 있는지 확인합니다.\n",
    "- 해당 숫자 이외에 나눠지는 수가 있다면 미리 카운트 했던 값을 차감하고 소수임이 맞다면 카운트값을 그대로 놔둡니다.\n",
    "- 마지막으로 10001번째 소수가 나오면 이를 출력합니다.\n"
   ]
  },
  {
   "cell_type": "code",
   "execution_count": 192,
   "metadata": {
    "collapsed": false
   },
   "outputs": [
    {
     "name": "stdout",
     "output_type": "stream",
     "text": [
      "40824\n"
     ]
    }
   ],
   "source": [
    "L=[]\n",
    "S='73167176531330624919225119674426574742355349194934\\\n",
    "96983520312774506326239578318016984801869478851843\\\n",
    "85861560789112949495459501737958331952853208805511\\\n",
    "12540698747158523863050715693290963295227443043557\\\n",
    "66896648950445244523161731856403098711121722383113\\\n",
    "62229893423380308135336276614282806444486645238749\\\n",
    "30358907296290491560440772390713810515859307960866\\\n",
    "70172427121883998797908792274921901699720888093776\\\n",
    "65727333001053367881220235421809751254540594752243\\\n",
    "52584907711670556013604839586446706324415722155397\\\n",
    "53697817977846174064955149290862569321978468622482\\\n",
    "83972241375657056057490261407972968652414535100474\\\n",
    "82166370484403199890008895243450658541227588666881\\\n",
    "16427171479924442928230863465674813919123162824586\\\n",
    "17866458359124566529476545682848912883142607690042\\\n",
    "24219022671055626321111109370544217506941658960408\\\n",
    "07198403850962455444362981230987879927244284909188\\\n",
    "84580156166097919133875499200524063689912560717606\\\n",
    "05886116467109405077541002256983155200055935729725\\\n",
    "71636269561882670428252483600823257530420752963450'\n",
    "L = S\n",
    "m = len(L)-4\n",
    "num1 = 0\n",
    "num2 = 0\n",
    "num3 = 0\n",
    "num4 = 0\n",
    "num5 = 0\n",
    "\n",
    "max = 0\n",
    "i = 0\n",
    "while(i < m):\n",
    "    \n",
    "    num1 = int(L[i])\n",
    "    num2 = int(L[i+1])\n",
    "    num3 = int(L[i+2])\n",
    "    num4 = int(L[i+3])\n",
    "    num5 = int(L[i+4])\n",
    "    \n",
    "    result = num1 * num2 * num3 * num4 * num5\n",
    "    \n",
    "    if(result > max):\n",
    "        max = result\n",
    "        \n",
    "    i += 1\n",
    "print max"
   ]
  },
  {
   "cell_type": "markdown",
   "metadata": {},
   "source": [
    "# 문제 9번\n",
    "## 해결 과정\n",
    "- 처음에는 리스트에 해당 숫자를 넣어보려 했는데 숫자가 너무 많아 long형이 되어버렸습니다.\n",
    "- 그래서 1000개의 숫자를 문자열로 받았고 이것의 길이를 m에 저장했습니다.\n",
    "- 처음에는 for문을 통해서 하나의 변수에 값을 곱해가며 출력하려 했는데 결과가 37152로 오답이 자꾸 나와서 좀 더 간단한 방법을 시도하기로 했습니다.\n",
    "- while문을 통해서 매 5번의 숫자를 저장해서 이 값의 곱을 result에 저장하고 최댓값과 비교하는 반복문을 만들었습니다.\n",
    "- 반복문이 끝나고 최댓값을 출력했습니다."
   ]
  },
  {
   "cell_type": "code",
   "execution_count": 209,
   "metadata": {
    "collapsed": false
   },
   "outputs": [
    {
     "name": "stdout",
     "output_type": "stream",
     "text": [
      "200 375 425\n",
      "31875000\n"
     ]
    }
   ],
   "source": [
    "for x in range(1,1000):\n",
    "    for y in range(x,1000):\n",
    "        for z in range(y,1000):\n",
    "            if(((x*x) + (y*y)) == (z*z)):\n",
    "                if((x+y+z)==1000):\n",
    "                    print x , y, z\n",
    "                    print x*y*z\n",
    "                    break"
   ]
  },
  {
   "cell_type": "markdown",
   "metadata": {},
   "source": [
    "# 문제 10번\n",
    "## 해결 과정\n",
    "- 시간이 많이 걸리지만 가장 확실한 방법인 for문 3개를 사용하는 경우를 생각해냈습니다.\n",
    "- 각 for문의 x,y,z가 문제에서의 a,b,c역할을 할 수 있도록 우항의 값이 좌항의 값보다 크도록 range를 설정했습니다.\n",
    "- 그런 다음 if문을 통해서 피타고라스 정리를 만족하고 x,y,z의 값의 합이 1000인 값이 나오면 출력하도록 했습니다.\n"
   ]
  },
  {
   "cell_type": "code",
   "execution_count": null,
   "metadata": {
    "collapsed": true
   },
   "outputs": [],
   "source": []
  },
  {
   "cell_type": "markdown",
   "metadata": {
    "collapsed": true
   },
   "source": [
    "# 소감문\n",
    "- 이번 과제는 한 마디로 저의 한계를 느낄 수 있었던 과제 였던 것 같습니다. 대수롭지 않게 여겼던 반복문 문제로 인해 계속해서 오답이 출력되기도 했고 해당 과목에서 제대로 이해하지 못한 내용들이 나와서 당황스럽기도 했습니다. 남은 기간동안 이 점을 보완해서 수강을 완료 했을 쯤에는 훨씬 개선된 모습이 되도록 노력하겠습니다."
   ]
  }
 ],
 "metadata": {
  "kernelspec": {
   "display_name": "Python 2",
   "language": "python",
   "name": "python2"
  },
  "language_info": {
   "codemirror_mode": {
    "name": "ipython",
    "version": 2
   },
   "file_extension": ".py",
   "mimetype": "text/x-python",
   "name": "python",
   "nbconvert_exporter": "python",
   "pygments_lexer": "ipython2",
   "version": "2.7.11"
  }
 },
 "nbformat": 4,
 "nbformat_minor": 0
}
