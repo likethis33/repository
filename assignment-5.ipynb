{
 "cells": [
  {
   "cell_type": "markdown",
   "metadata": {},
   "source": [
    "# 문제 1번\n",
    "## 차이점\n",
    "- 모듈이란, 파이썬 프로그램 파일로써 파이썬 데이터와 함수등을 정의하고 있는 단위를 의미하며 확장자는.py입니다. \n",
    "-  클래스란, 새로운 이름 공간을 지원하는 또 다른 단위를 뜻하며, 클래스는 class 키워드를 사용하여 정의 할 수 있습니다.\n",
    "- 모듈은 import 키워드를 사용하여 외부에서 불러들이는 형태가 되지만, 클래스는 내부에서 class 키워드를 통해 직접 객체를 생성하거나 다른 변수에 저장할 수 있습니다.\n",
    "\n",
    "## 공통점\n",
    "- 새로운 이름 공간을 구성하고 있다는 점에서 공통점을 갖습니다.\n"
   ]
  },
  {
   "cell_type": "code",
   "execution_count": 6,
   "metadata": {
    "collapsed": false
   },
   "outputs": [
    {
     "name": "stdout",
     "output_type": "stream",
     "text": [
      "None\n",
      "3\n",
      "4\n",
      "5\n"
     ]
    }
   ],
   "source": [
    "class Double:\n",
    "    def sideCount(self):\n",
    "        return None\n",
    "class Triple(Double):\n",
    "    def sideCount(self):\n",
    "        return 3\n",
    "class Quadruple(Double):\n",
    "    def sideCount(self):\n",
    "        return 4\n",
    "class Quintuple(Double):\n",
    "    def sideCount(self):\n",
    "        return 5\n",
    "\n",
    "for each in (Double(), Triple(), Quadruple(), Quintuple()):\n",
    "    print each.sideCount()"
   ]
  },
  {
   "cell_type": "markdown",
   "metadata": {},
   "source": [
    "# 문제 2번\n",
    "## 해결과정\n",
    "- 슈퍼 클래스 Double을 정의합니다.\n",
    "- 그 클래스내에 sideCount라는 함수를 선언하고 Triple, Quadreple, Quintuple클래스를 생성합니다.\n",
    "- 해당 클래스들도 같은 함수를 선언합니다.\n",
    "- 반복문을 통해 sideCount 함수가 각각 다른 값을 반환합니다.\n"
   ]
  },
  {
   "cell_type": "code",
   "execution_count": 9,
   "metadata": {
    "collapsed": false
   },
   "outputs": [
    {
     "name": "stdout",
     "output_type": "stream",
     "text": [
      "[Count (step: 1)] 10\n",
      "[Count (step: 2)] 10\n",
      "[Count (step: 1)] 11\n",
      "[Count (step: 2)] 12\n",
      "[Count (step: 1)] 12\n",
      "[Count (step: 2)] 14\n",
      "[Count (step: 1)] 17\n",
      "[Count (step: 2)] 9\n",
      "True\n",
      "False\n",
      "False\n",
      "True\n",
      "True\n",
      "False\n"
     ]
    }
   ],
   "source": [
    "class Counter:\n",
    "    def __init__(self, count, step=1):\n",
    "        self.count = count\n",
    "        self.step = step\n",
    "        \n",
    "    def __str__(self):\n",
    "        return \"[Count (step: %d)] %d\" % (self.step, self.count)\n",
    "    \n",
    "    def incr(self):\n",
    "        self.count += self.step\n",
    "        \n",
    "    def __call__(self):\n",
    "        self.count += self.step\n",
    "        \n",
    "    def __add__(self, number):\n",
    "        self.count += number\n",
    "        return self\n",
    "    \n",
    "    def __sub__(self, number):\n",
    "        self.count -= number\n",
    "        return self\n",
    "    \n",
    "    def __cmp__(self, other):\n",
    "        return self.count - other \n",
    "    \n",
    "c = Counter(10)\n",
    "d = Counter(10, 2)\n",
    "\n",
    "print c\n",
    "print d\n",
    "c.incr()\n",
    "d.incr()\n",
    "\n",
    "print c\n",
    "print d\n",
    "\n",
    "c()\n",
    "d()\n",
    "\n",
    "print c\n",
    "print d\n",
    "\n",
    "c = c + 5\n",
    "d = d - 5\n",
    "print c\n",
    "print d\n",
    "\n",
    "print c > 10\n",
    "print d > 10\n",
    "print c < 10\n",
    "print d < 10\n",
    "print c == 17\n",
    "print d != 9"
   ]
  },
  {
   "cell_type": "markdown",
   "metadata": {},
   "source": [
    "# 문제 3번\n",
    "## 1번 해결과정\n",
    "-  __init__() 함수를 생성하여, count과 step 값을 input으로 만들었습니다.\n",
    "- 이때 step 값은 1로 디폴트했습니다.\n",
    "\n",
    "## 2번 해결과정\n",
    "-   '[Count (step: %d)] %d'라는 string 값을 반환하도록 함수를 선언했습니다.\n",
    "\n",
    "## 3번 해결과정\n",
    "-  incr() 함수를 정의하고 해당 함수가 불려지면,step의 값에 따라 count 값이 증가합니다.\n",
    "\n",
    "## 4번 해결과정\n",
    "- __call__()함수를 정의했는데 그 내용은 incr 함수와 같습니다.\n",
    "\n",
    "## 5번 해결과정\n",
    "-  산술 연산을 수행하기 위해, '__add__()', '__sub__()'함수를 선언했습니다. \n",
    "- 각 함수는 count의 값을 num의 값에 따라 더하거나, 빼주는 방식입니다.\n",
    "\n",
    "## 6번 해결과정\n",
    "-  관계연산을 통해 True, False 값을 반환하기위해 '__cmp__()'함수를 정의했습니다. "
   ]
  },
  {
   "cell_type": "code",
   "execution_count": null,
   "metadata": {
    "collapsed": true
   },
   "outputs": [],
   "source": [
    "class MySet(list):\n",
    "    def __init__(self, l):\n",
    "        for e in l:\n",
    "            self.append(e)\n",
    "        MySet.eliminate_duplicate(self)\n",
    "    \n",
    "    def __str__(self):\n",
    "        result = \"MySet: [\"\n",
    "        for e in self:\n",
    "            result = result + str(e) + \" ,\"\n",
    "        result = result[0:len(result)-2] + \"]\"\n",
    "        return result\n",
    "\n",
    "    @staticmethod    \n",
    "    def eliminate_duplicate(l):\n",
    "        s = []\n",
    "        for e in l:\n",
    "            if e not in s:\n",
    "                s.append(e)\n",
    "        l[:] = []\n",
    "        for e in s:\n",
    "            l.append(e)\n",
    "\n",
    "    \n",
    "if __name__ == \"__main__\":\n",
    "    s = MySet([1, 2, 2, 3])\n",
    "    print s\n",
    "    t = MySet([2, 3, 4, 5, 6, 7, 8, 8, 8, 8, 8, 9])\n",
    "    print t"
   ]
  },
  {
   "cell_type": "markdown",
   "metadata": {},
   "source": [
    "# 문제 4번\n",
    "## 설명\n",
    "- init은 클래스의 생성자이다.  새로운 클래스를 만들때 어떤 값을 주고 만들지를 선언합니다.\n",
    "- Set 자료형을 사용할 수 있도록 클래스(MySet)에 list 클래스를 종속시켜야 합니다.\n",
    "-  __init__()함수를 통해,  Set 자료형을 정의할 수 있게 정의합니다. \n",
    "- 생성자에 저장할 인자는 자료형 list 로 합니다.\n",
    "- 그 리스트(l)의 내용을 인스턴스 객체에 넣습니다. \n",
    "- 만약 ㅣ에 중복 값이 있으면 제거해야 하므로,  함수 eliminate_duplicate()를 정의합니다.\n",
    "- 이 함수는 MySet 클래스에서 인스턴스 객체가 없어도 사용될 수 있게 만들어야하므로, @staticmethod라고 지정해야합니다.\n",
    "-  __str__()함수를 통해 리스트 값들을 문자열로 나열하고 반환하게 합니다.\n"
   ]
  },
  {
   "cell_type": "code",
   "execution_count": 1,
   "metadata": {
    "collapsed": false
   },
   "outputs": [
    {
     "name": "stdout",
     "output_type": "stream",
     "text": [
      "MySet: {1 ,2 ,3}\n",
      "MySet: {2 ,3 ,4 ,5 ,6 ,7 ,8 ,9}\n"
     ]
    }
   ],
   "source": [
    "class MySet(list):\n",
    "    def __init__(self, l):\n",
    "        for e in l:\n",
    "            self.append(e)\n",
    "        MySet.eliminate_duplicate(self)\n",
    "    \n",
    "    def __str__(self):\n",
    "        result = \"MySet: {\"\n",
    "        for e in self:\n",
    "            result = result + str(e) + \" ,\"\n",
    "        result = result[0:len(result)-2] + \"}\"\n",
    "        return result\n",
    "\n",
    "    @staticmethod    \n",
    "    def eliminate_duplicate(l):\n",
    "        s = []\n",
    "        for e in l:\n",
    "            if e not in s:\n",
    "                s.append(e)\n",
    "        l[:] = []\n",
    "        for e in s:\n",
    "            l.append(e)\n",
    "\n",
    "    \n",
    "if __name__ == \"__main__\":\n",
    "    s = MySet([1, 2, 2, 3])\n",
    "    print s\n",
    "    t = MySet([2, 3, 4, 5, 6, 7, 8, 8, 8, 8, 8, 9])\n",
    "    print t"
   ]
  },
  {
   "cell_type": "markdown",
   "metadata": {},
   "source": [
    "# 문제 5번\n",
    "## 1번 해결과정\n",
    "- 두 집합의 합집합을 반환하는 '__or__()'함수를 정의합니다.\n",
    "- 합집합이므로 리스트 'ㅣ'을 초기화하고 self와 other에 있는 값들을 리스트에 추가합니다.\n",
    "- 마지막으로 result객체에 리스트를 포함하여 반환합니다.\n",
    "\n",
    "## 2번 해결과정\n",
    "- 두 집합의 교집합을 반환하는 '__and__()'함수를 정의합니다.\n",
    "- 교집합은 두 객체가 가지고 잇는 값들 중 동일하게 갖고 잇는 값들만을 리스트로 만들어야합니다.\n",
    "- 그러므로 other에 있는 값들 중 self에 있는 값들과 같은 것을 리스트에 추가하도록 함\n",
    "\n",
    "## 3번 해결과정\n",
    "- 두 집합의 차집합을 반환하는 '__sub__()'함수를 정의합니다.\n",
    "- 차집합은 교집합과 반대의 조건문을 사용하기로 했습니다.\n",
    "- self에 있는 값들을 반복문으로 비교하고 other에 있는 값들 중에 없는 값들만 리스트에 추가하도록 했습니다.\n"
   ]
  },
  {
   "cell_type": "code",
   "execution_count": 3,
   "metadata": {
    "collapsed": false
   },
   "outputs": [
    {
     "name": "stdout",
     "output_type": "stream",
     "text": [
      "MySet: {1 ,2 ,3}\n",
      "MySet: {2 ,3 ,4 ,5 ,6 ,7 ,8 ,9}\n",
      "\n",
      "MySet: {1 ,2 ,3 ,4 ,5 ,6 ,7 ,8 ,9}\n",
      "\n",
      "MySet: {2 ,3}\n",
      "\n",
      "MySet: {1 ,2}\n"
     ]
    }
   ],
   "source": [
    "class MySet(list):\n",
    "    def __init__(self, l):\n",
    "        for e in l:\n",
    "            self.append(e)\n",
    "        MySet.eliminate_duplicate(self)\n",
    "    \n",
    "    def __str__(self):\n",
    "        result = \"MySet: {\"\n",
    "        for e in self:\n",
    "            result = result + str(e) + \" ,\"\n",
    "        result = result[0:len(result)-2] + \"}\"\n",
    "        return result\n",
    "    \n",
    "\n",
    "    # 요구사항 1번 문제\n",
    "    def __or__(self, other):    \n",
    "        l = []                  \n",
    "        for e in self:\n",
    "            l.append(e)\n",
    "        for e in other:\n",
    "            l.append(e)\n",
    "            \n",
    "        result = MySet(l)        \n",
    "        return result         \n",
    "\n",
    "    # 요구사항 2번 문제\n",
    "    def __and__(self, other):   \n",
    "        l = []                 \n",
    "        for e in other:          \n",
    "            if e in self:        \n",
    "                l.append(e)\n",
    "        result = MySet(l)\n",
    "        return result\n",
    "    \n",
    "    \n",
    "    # 요구사항 3번 문제\n",
    "    def __sub__(self, other):   \n",
    "        l = []                   \n",
    "        for e in self:           \n",
    "            if e not in other:   \n",
    "                l.append(e)\n",
    "        result = MySet(l)\n",
    "        return result\n",
    "    \n",
    "    @staticmethod    \n",
    "    def eliminate_duplicate(l):\n",
    "        s = []\n",
    "        for e in l:\n",
    "            if e not in s:\n",
    "                s.append(e)\n",
    "        l[:] = []\n",
    "        for e in s:\n",
    "            l.append(e)\n",
    "\n",
    "    \n",
    "if __name__ == \"__main__\":\n",
    "    s = MySet([1, 2, 2, 3])\n",
    "    print s\n",
    "    t = MySet([2, 3, 4, 5, 6, 7, 8, 8, 8, 8, 8, 9])\n",
    "    print t\n",
    "    print \n",
    "    \n",
    "u = s | t\n",
    "print u\n",
    "print\n",
    "\n",
    "\n",
    "u = s & t\n",
    "print u\n",
    "print \n",
    "\n",
    "\n",
    "s = MySet([1, 2, 3])\n",
    "t = MySet([3, 4, 5])\n",
    "u = s - t\n",
    "print u"
   ]
  },
  {
   "cell_type": "markdown",
   "metadata": {},
   "source": [
    "# 문제 6번\n",
    "## 해결과정\n",
    "- len(), bool() 함수와 in 키워드를 사용가능하려면 객체 s가 리스트형이어야 합니다.\n",
    "- s 객체는 클래스 MySet의 인스턴스 객체이므로 list클래스 가 MySet 클래스에 종속되어 있습니다.\n",
    "- 따라서 s는 리스트형이 되므로 len(), bool()함수와 in 키워드를 사용할 수 있습니다."
   ]
  },
  {
   "cell_type": "code",
   "execution_count": 2,
   "metadata": {
    "collapsed": false
   },
   "outputs": [
    {
     "name": "stdout",
     "output_type": "stream",
     "text": [
      "6\n",
      "True\n",
      "True\n"
     ]
    }
   ],
   "source": [
    "s = MySet([1, 2, 3, 4, 5, 6])\n",
    "\n",
    "print len(s)\n",
    "print bool(s)\n",
    "print 2 in s"
   ]
  },
  {
   "cell_type": "markdown",
   "metadata": {},
   "source": [
    "# 문제 7번\n",
    "## 해결과정\n",
    "- math를 import하여 2의 1000의 구하고 이를 total에 저장합니다.\n",
    "- for문을 통해서 total의 모든 값을 result에 더하고 이를 반환하도록 했습니다."
   ]
  },
  {
   "cell_type": "code",
   "execution_count": 6,
   "metadata": {
    "collapsed": false
   },
   "outputs": [
    {
     "name": "stdout",
     "output_type": "stream",
     "text": [
      "1366\n"
     ]
    }
   ],
   "source": [
    "import math\n",
    "\n",
    "total = str(pow(2,1000)) \n",
    "result = 0 \n",
    "\n",
    "for n in range(len(total)):\n",
    "    result = result+int(total[n])\n",
    "print result"
   ]
  },
  {
   "cell_type": "markdown",
   "metadata": {},
   "source": [
    "# 문제 8번\n",
    "## 해결과정\n",
    "- 숫자를 key로 그에 맞는 영어로 숫자를 나타내는 문자열을 value 사전을 정의했습니다. \n",
    "- 사전의 value 값에 들어있는 문자열을 문자열의 갯수를 변경합니다. \n",
    "- 결과적으로 사전에 있는 value 값들은 key값에 따라 영어로 쓰인 숫자들의 문자수 갖습니다. \n",
    "- 1000번을 시행하는 반복문 내에 무한루프를 갖는 반복문을 다시 만들고 반복문안에 현재 i의 값이 저장된 num 값을 조건문에 맞게 비교합니다.\n",
    "- 반복문을 시행하면서 첫번째, 사전에 key 값들과 동일하면, 그 value 값을 str_num에 저장하고 break합니다.\n",
    "- 3자리수인지 2자리수인지를 비교하여 3자리수일 경우, 일단 \"and\"가 들어가기 때문에 str_num에 \"and\"의 갯수만큼 더합니다. \n",
    "- 3자리수의 값을 인위로 만들어서 사전의 key값의 value를 str_num에 저장하고, 그 값 만큼 num에서 차감합니다. \n",
    "- 만약 2자리수일 경우에는 마찬가지로 2자리수의 값을 인위로 만들어서 사전의 key값의 value값을 str_num에 저장하고, 그 2자리수의 값 만큼 num에서 뺍니다.\n",
    "- 반복문을 통해 계산된 str_num를 result에 더하고, 출력합니다."
   ]
  },
  {
   "cell_type": "code",
   "execution_count": 5,
   "metadata": {
    "collapsed": false
   },
   "outputs": [
    {
     "name": "stdout",
     "output_type": "stream",
     "text": [
      "21124\n"
     ]
    }
   ],
   "source": [
    "char_num = {1:\"one\", 2:\"two\", 3:\"three\", 4:\"four\", 5:\"five\", 6:\"six\", 7:\"seven\", 8:\"eight\", 9:\"nine\", 10:\"ten\"\n",
    "           ,11: \"eleven\",12: \"twelve\" ,13: \"thirteen\",14: \"fourteen\",15: \"fifteen\",16: \"sixteen\" ,17: \"seventeen\",18: \"eighteen\",19: \"nineteen\"\n",
    "           ,20: \"twenty\",30: \"thirty\",40: \"forty\",50: \"fifty\",60: \"sixty\",70: \"seventy\" ,80: \"eighty\",90: \"ninety\" \n",
    "           ,100: \"onehundred\", 200:\"twohundred\", 300:\"threehundred\", 400:\"fourhundred\", 500:\"fivehundred\", 600:\"sixhundred\", 700:\"sevenhundred\", 800:\"eighthundred\", 900:\"ninehundred\",\n",
    "           1000:\"onethousand\"}\n",
    "\n",
    "\n",
    "for k, m in char_num.items():\n",
    "    n = len(m)\n",
    "    char_num[k] = n\n",
    "    \n",
    "result = 0\n",
    "\n",
    "for i in range(1, 1001):\n",
    "    num = i\n",
    "    str_num = 0\n",
    "    \n",
    "    while 1:\n",
    "        \n",
    "        if num in char_num.keys():\n",
    "            str_num += char_num[num]\n",
    "            \n",
    "            break\n",
    "            \n",
    "        else:\n",
    "            if num > 100:\n",
    "                str_num += len(\"and\")\n",
    "                check = str(num)\n",
    "                ch = int(check[0] + '00')\n",
    "                str_num += char_num[ch]\n",
    "                num -= ch\n",
    "            else:\n",
    "                check = str(num)\n",
    "                ch = int(check[0] + '0')\n",
    "                str_num += char_num[ch]\n",
    "                num -= ch\n",
    "                \n",
    "    result += str_num\n",
    "    \n",
    "\n",
    "print result"
   ]
  },
  {
   "cell_type": "markdown",
   "metadata": {},
   "source": [
    "# 문제 9번\n",
    "## 해결과정\n",
    "- 일단 삼각형을 뒤집은 배열값을 만든 후, 코드중 마지막에 들어있는 for문에서 합이 최대가 되는 경로를 구하도록 했습니다.\n",
    "- 앞 줄에서 바로 옆의 수와 비교하여 큰수를 고르고, 그 다음 줄에 더하게 될 수에 더하게 되는 방식입니다."
   ]
  },
  {
   "cell_type": "code",
   "execution_count": 8,
   "metadata": {
    "collapsed": false
   },
   "outputs": [
    {
     "name": "stdout",
     "output_type": "stream",
     "text": [
      "1313\n"
     ]
    }
   ],
   "source": [
    "triangle_num = \"\"\"75\n",
    "95 64\n",
    "17 47 82\n",
    "18 35 87 10\n",
    "20 04 82 47 65\n",
    "19 01 23 75 03 34\n",
    "88 02 77 73 07 63 67\n",
    "99 65 04 28 06 16 70 92\n",
    "41 41 26 56 83 40 80 70 33\n",
    "41 48 72 33 47 32 37 16 94 29\n",
    "53 71 44 65 25 43 91 52 97 51 14\n",
    "70 11 33 28 77 73 17 78 39 68 17 57\n",
    "91 71 52 38 17 14 91 43 58 50 27 29 48\n",
    "63 66 04 68 89 53 67 30 73 16 69 87 40 31\n",
    "04 62 98 27 23 09 70 98 73 93 38 53 60 04 23\n",
    "\"\"\".splitlines()\n",
    "\n",
    "num = 0\n",
    "total = 0\n",
    "\n",
    "for i in range(len(triangle_num)): \n",
    "    result= triangle_num[i].split()\n",
    "    \n",
    "    for j in range(len(result)):\n",
    "        if(int(result[j]) > num):\n",
    "            \n",
    "            num = int(result[j])\n",
    "    \n",
    "    total = total + num\n",
    "    num = 0\n",
    "\n",
    "print total"
   ]
  },
  {
   "cell_type": "markdown",
   "metadata": {},
   "source": [
    "# 소감문\n",
    "- 마지막 과제를 잘 마치지 않아서 안타까웠고 방학동안 파이썬에 대해서 더 보강을 해야겠다고 생각하게 되었습니다."
   ]
  }
 ],
 "metadata": {
  "anaconda-cloud": {},
  "kernelspec": {
   "display_name": "Python [Root]",
   "language": "python",
   "name": "Python [Root]"
  },
  "language_info": {
   "codemirror_mode": {
    "name": "ipython",
    "version": 2
   },
   "file_extension": ".py",
   "mimetype": "text/x-python",
   "name": "python",
   "nbconvert_exporter": "python",
   "pygments_lexer": "ipython2",
   "version": "2.7.12"
  }
 },
 "nbformat": 4,
 "nbformat_minor": 0
}
